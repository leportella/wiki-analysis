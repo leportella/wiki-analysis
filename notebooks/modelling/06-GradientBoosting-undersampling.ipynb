{
 "cells": [
  {
   "cell_type": "code",
   "execution_count": 1,
   "metadata": {},
   "outputs": [],
   "source": [
    "import pandas as pd\n",
    "\n",
    "from sklearn.ensemble import GradientBoostingClassifier\n",
    "from sklearn.model_selection import train_test_split, GridSearchCV\n",
    "from sklearn.metrics import accuracy_score, classification_report, confusion_matrix, make_scorer\n",
    "from sklearn.utils import shuffle\n",
    "\n",
    "from tools import plot_confusion_matrix"
   ]
  },
  {
   "cell_type": "code",
   "execution_count": 2,
   "metadata": {},
   "outputs": [
    {
     "data": {
      "text/html": [
       "<div>\n",
       "<style scoped>\n",
       "    .dataframe tbody tr th:only-of-type {\n",
       "        vertical-align: middle;\n",
       "    }\n",
       "\n",
       "    .dataframe tbody tr th {\n",
       "        vertical-align: top;\n",
       "    }\n",
       "\n",
       "    .dataframe thead th {\n",
       "        text-align: right;\n",
       "    }\n",
       "</style>\n",
       "<table border=\"1\" class=\"dataframe\">\n",
       "  <thead>\n",
       "    <tr style=\"text-align: right;\">\n",
       "      <th></th>\n",
       "      <th>user_id</th>\n",
       "      <th>time_first_revert</th>\n",
       "      <th>time_first_contribution</th>\n",
       "      <th>time_last_contribution</th>\n",
       "      <th>days_until_revert</th>\n",
       "      <th>days_of_contribution</th>\n",
       "      <th>total_updates</th>\n",
       "      <th>updated_after_revert</th>\n",
       "      <th>updates_per_day</th>\n",
       "      <th>edits_before_revert</th>\n",
       "    </tr>\n",
       "  </thead>\n",
       "  <tbody>\n",
       "    <tr>\n",
       "      <th>0</th>\n",
       "      <td>60</td>\n",
       "      <td>2009-11-10 19:21:18</td>\n",
       "      <td>2009-11-10 19:12:56</td>\n",
       "      <td>2009-11-10 20:15:43</td>\n",
       "      <td>0</td>\n",
       "      <td>0</td>\n",
       "      <td>14</td>\n",
       "      <td>1</td>\n",
       "      <td>0.000000</td>\n",
       "      <td>3.0</td>\n",
       "    </tr>\n",
       "    <tr>\n",
       "      <th>1</th>\n",
       "      <td>64</td>\n",
       "      <td>2010-07-28 20:46:23</td>\n",
       "      <td>2010-07-28 20:25:16</td>\n",
       "      <td>2010-08-08 23:30:29</td>\n",
       "      <td>0</td>\n",
       "      <td>0</td>\n",
       "      <td>33</td>\n",
       "      <td>1</td>\n",
       "      <td>0.000000</td>\n",
       "      <td>10.0</td>\n",
       "    </tr>\n",
       "    <tr>\n",
       "      <th>2</th>\n",
       "      <td>162</td>\n",
       "      <td>2007-12-19 03:32:13</td>\n",
       "      <td>2007-07-07 21:47:30</td>\n",
       "      <td>2010-07-17 22:59:00</td>\n",
       "      <td>164</td>\n",
       "      <td>164</td>\n",
       "      <td>119</td>\n",
       "      <td>1</td>\n",
       "      <td>0.725610</td>\n",
       "      <td>7.0</td>\n",
       "    </tr>\n",
       "    <tr>\n",
       "      <th>3</th>\n",
       "      <td>291</td>\n",
       "      <td>2006-11-27 18:30:30</td>\n",
       "      <td>2006-04-24 22:03:29</td>\n",
       "      <td>2010-05-10 05:55:15</td>\n",
       "      <td>216</td>\n",
       "      <td>216</td>\n",
       "      <td>875</td>\n",
       "      <td>1</td>\n",
       "      <td>4.050926</td>\n",
       "      <td>100.0</td>\n",
       "    </tr>\n",
       "    <tr>\n",
       "      <th>4</th>\n",
       "      <td>342</td>\n",
       "      <td>2005-12-27 02:27:17</td>\n",
       "      <td>2004-06-13 16:44:39</td>\n",
       "      <td>2010-08-18 03:07:32</td>\n",
       "      <td>561</td>\n",
       "      <td>561</td>\n",
       "      <td>4279</td>\n",
       "      <td>1</td>\n",
       "      <td>7.627451</td>\n",
       "      <td>149.0</td>\n",
       "    </tr>\n",
       "  </tbody>\n",
       "</table>\n",
       "</div>"
      ],
      "text/plain": [
       "   user_id    time_first_revert time_first_contribution  \\\n",
       "0       60  2009-11-10 19:21:18     2009-11-10 19:12:56   \n",
       "1       64  2010-07-28 20:46:23     2010-07-28 20:25:16   \n",
       "2      162  2007-12-19 03:32:13     2007-07-07 21:47:30   \n",
       "3      291  2006-11-27 18:30:30     2006-04-24 22:03:29   \n",
       "4      342  2005-12-27 02:27:17     2004-06-13 16:44:39   \n",
       "\n",
       "  time_last_contribution  days_until_revert  days_of_contribution  \\\n",
       "0    2009-11-10 20:15:43                  0                     0   \n",
       "1    2010-08-08 23:30:29                  0                     0   \n",
       "2    2010-07-17 22:59:00                164                   164   \n",
       "3    2010-05-10 05:55:15                216                   216   \n",
       "4    2010-08-18 03:07:32                561                   561   \n",
       "\n",
       "   total_updates  updated_after_revert  updates_per_day  edits_before_revert  \n",
       "0             14                     1         0.000000                  3.0  \n",
       "1             33                     1         0.000000                 10.0  \n",
       "2            119                     1         0.725610                  7.0  \n",
       "3            875                     1         4.050926                100.0  \n",
       "4           4279                     1         7.627451                149.0  "
      ]
     },
     "execution_count": 2,
     "metadata": {},
     "output_type": "execute_result"
    }
   ],
   "source": [
    "df = pd.read_csv('../../data/users_behavior_complete.csv')\n",
    "df.head(5)"
   ]
  },
  {
   "cell_type": "code",
   "execution_count": 3,
   "metadata": {},
   "outputs": [],
   "source": [
    "df.edits_before_revert.fillna(0, inplace=True)"
   ]
  },
  {
   "cell_type": "code",
   "execution_count": 4,
   "metadata": {},
   "outputs": [
    {
     "data": {
      "text/plain": [
       "(14829, 10)"
      ]
     },
     "execution_count": 4,
     "metadata": {},
     "output_type": "execute_result"
    }
   ],
   "source": [
    "df.shape"
   ]
  },
  {
   "cell_type": "code",
   "execution_count": 5,
   "metadata": {},
   "outputs": [
    {
     "data": {
      "text/plain": [
       "(14829, 10)"
      ]
     },
     "execution_count": 5,
     "metadata": {},
     "output_type": "execute_result"
    }
   ],
   "source": [
    "df = df.dropna()\n",
    "df.shape"
   ]
  },
  {
   "cell_type": "code",
   "execution_count": 6,
   "metadata": {},
   "outputs": [
    {
     "data": {
      "text/plain": [
       "1    14073\n",
       "0      756\n",
       "Name: updated_after_revert, dtype: int64"
      ]
     },
     "execution_count": 6,
     "metadata": {},
     "output_type": "execute_result"
    }
   ],
   "source": [
    "df.updated_after_revert.value_counts()"
   ]
  },
  {
   "cell_type": "code",
   "execution_count": 7,
   "metadata": {},
   "outputs": [
    {
     "data": {
      "text/plain": [
       "(1512, 10)"
      ]
     },
     "execution_count": 7,
     "metadata": {},
     "output_type": "execute_result"
    }
   ],
   "source": [
    "class0 = df[df.updated_after_revert==0]\n",
    "class1 = df[df.updated_after_revert==1].sample(756)\n",
    "\n",
    "df1 = shuffle(pd.concat([class0, class1]))\n",
    "df1.shape"
   ]
  },
  {
   "cell_type": "code",
   "execution_count": 8,
   "metadata": {},
   "outputs": [],
   "source": [
    "y = df1.updated_after_revert\n",
    "X = df1[['days_until_revert', 'updates_per_day', 'edits_before_revert']]"
   ]
  },
  {
   "cell_type": "code",
   "execution_count": 9,
   "metadata": {},
   "outputs": [],
   "source": [
    "X_train, X_test, y_train, y_test = train_test_split(X, y, test_size=0.2, random_state=42)"
   ]
  },
  {
   "cell_type": "code",
   "execution_count": 10,
   "metadata": {
    "scrolled": true
   },
   "outputs": [
    {
     "name": "stderr",
     "output_type": "stream",
     "text": [
      "/Users/leportella/miniconda3/envs/wiki/lib/python3.7/site-packages/sklearn/model_selection/_split.py:1943: FutureWarning: You should specify a value for 'cv' instead of relying on the default value. The default value will change from 3 to 5 in version 0.22.\n",
      "  warnings.warn(CV_WARNING, FutureWarning)\n"
     ]
    }
   ],
   "source": [
    "model = GradientBoostingClassifier()\n",
    "\n",
    "\n",
    "parameters = {\n",
    "    'learning_rate': [0.01, 0.05, 0.1, 0.5],\n",
    "    'n_estimators': [100, 500]\n",
    "}\n",
    "\n",
    "scorer = make_scorer(score_func=accuracy_score)\n",
    "\n",
    "grid_obj = GridSearchCV(model, parameters, scoring=scorer)\n",
    "\n",
    "grid_fit = grid_obj.fit(X_train, y_train)\n",
    "\n",
    "best_clf = grid_fit.best_estimator_"
   ]
  },
  {
   "cell_type": "code",
   "execution_count": 11,
   "metadata": {},
   "outputs": [],
   "source": [
    "y_pred = best_clf.predict(X_test)"
   ]
  },
  {
   "cell_type": "code",
   "execution_count": 12,
   "metadata": {},
   "outputs": [
    {
     "data": {
      "text/plain": [
       "0.8481848184818482"
      ]
     },
     "execution_count": 12,
     "metadata": {},
     "output_type": "execute_result"
    }
   ],
   "source": [
    "accuracy_score(y_test, y_pred)"
   ]
  },
  {
   "cell_type": "code",
   "execution_count": 13,
   "metadata": {},
   "outputs": [
    {
     "name": "stdout",
     "output_type": "stream",
     "text": [
      "              precision    recall  f1-score   support\n",
      "\n",
      "           0       0.83      0.90      0.87       166\n",
      "           1       0.87      0.78      0.82       137\n",
      "\n",
      "   micro avg       0.85      0.85      0.85       303\n",
      "   macro avg       0.85      0.84      0.85       303\n",
      "weighted avg       0.85      0.85      0.85       303\n",
      "\n"
     ]
    }
   ],
   "source": [
    "print(classification_report(y_test, y_pred))"
   ]
  },
  {
   "cell_type": "code",
   "execution_count": 14,
   "metadata": {},
   "outputs": [
    {
     "name": "stdout",
     "output_type": "stream",
     "text": [
      "Confusion matrix, without normalization\n",
      "[[150  16]\n",
      " [ 30 107]]\n"
     ]
    },
    {
     "data": {
      "image/png": "[encoded data removed]",
      "text/plain": [
       "<Figure size 432x288 with 2 Axes>"
      ]
     },
     "metadata": {
      "needs_background": "light"
     },
     "output_type": "display_data"
    }
   ],
   "source": [
    "cnf_matrix = confusion_matrix(y_test, y_pred)\n",
    "plot_confusion_matrix(cnf_matrix, classes=['Updated', \"Didn't Updated\"],\n",
    "                      title='Confusion matrix, without normalization')"
   ]
  }
 ],
 "metadata": {
  "kernelspec": {
   "display_name": "Python 3",
   "language": "python",
   "name": "python3"
  },
  "language_info": {
   "codemirror_mode": {
    "name": "ipython",
    "version": 3
   },
   "file_extension": ".py",
   "mimetype": "text/x-python",
   "name": "python",
   "nbconvert_exporter": "python",
   "pygments_lexer": "ipython3",
   "version": "3.7.1"
  }
 },
 "nbformat": 4,
 "nbformat_minor": 2
}
