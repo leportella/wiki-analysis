{
 "cells": [
  {
   "cell_type": "code",
   "execution_count": 16,
   "metadata": {},
   "outputs": [],
   "source": [
    "from datetime import datetime\n",
    "\n",
    "import matplotlib.pyplot as plt\n",
    "import numpy as np\n",
    "import pandas as pd\n",
    "import seaborn as sns\n",
    "\n",
    "sns.set()"
   ]
  },
  {
   "cell_type": "code",
   "execution_count": 2,
   "metadata": {},
   "outputs": [
    {
     "data": {
      "text/html": [
       "<div>\n",
       "<style scoped>\n",
       "    .dataframe tbody tr th:only-of-type {\n",
       "        vertical-align: middle;\n",
       "    }\n",
       "\n",
       "    .dataframe tbody tr th {\n",
       "        vertical-align: top;\n",
       "    }\n",
       "\n",
       "    .dataframe thead th {\n",
       "        text-align: right;\n",
       "    }\n",
       "</style>\n",
       "<table border=\"1\" class=\"dataframe\">\n",
       "  <thead>\n",
       "    <tr style=\"text-align: right;\">\n",
       "      <th></th>\n",
       "      <th>user_id</th>\n",
       "      <th>article_id</th>\n",
       "      <th>revision_id</th>\n",
       "      <th>namespace</th>\n",
       "      <th>timestamp</th>\n",
       "      <th>md5</th>\n",
       "      <th>reverted</th>\n",
       "      <th>reverted_user_id</th>\n",
       "      <th>reverted_revision_id</th>\n",
       "      <th>delta</th>\n",
       "      <th>cur_size</th>\n",
       "    </tr>\n",
       "  </thead>\n",
       "  <tbody>\n",
       "    <tr>\n",
       "      <th>0</th>\n",
       "      <td>389427</td>\n",
       "      <td>9445560</td>\n",
       "      <td>279555872</td>\n",
       "      <td>0</td>\n",
       "      <td>2009-03-25 10:31:33</td>\n",
       "      <td>175d8a73b80b3c95719c458b698e5179</td>\n",
       "      <td>0</td>\n",
       "      <td>-1</td>\n",
       "      <td>-1</td>\n",
       "      <td>276</td>\n",
       "      <td>1661</td>\n",
       "    </tr>\n",
       "    <tr>\n",
       "      <th>1</th>\n",
       "      <td>389427</td>\n",
       "      <td>9445560</td>\n",
       "      <td>279556938</td>\n",
       "      <td>0</td>\n",
       "      <td>2009-03-25 10:41:09</td>\n",
       "      <td>48fa53402b2819283472a899a30117a1</td>\n",
       "      <td>0</td>\n",
       "      <td>-1</td>\n",
       "      <td>-1</td>\n",
       "      <td>97</td>\n",
       "      <td>1758</td>\n",
       "    </tr>\n",
       "  </tbody>\n",
       "</table>\n",
       "</div>"
      ],
      "text/plain": [
       "   user_id  article_id  revision_id  namespace            timestamp  \\\n",
       "0   389427     9445560    279555872          0  2009-03-25 10:31:33   \n",
       "1   389427     9445560    279556938          0  2009-03-25 10:41:09   \n",
       "\n",
       "                                md5  reverted  reverted_user_id  \\\n",
       "0  175d8a73b80b3c95719c458b698e5179         0                -1   \n",
       "1  48fa53402b2819283472a899a30117a1         0                -1   \n",
       "\n",
       "   reverted_revision_id  delta  cur_size  \n",
       "0                    -1    276      1661  \n",
       "1                    -1     97      1758  "
      ]
     },
     "execution_count": 2,
     "metadata": {},
     "output_type": "execute_result"
    }
   ],
   "source": [
    "edits = pd.read_csv('../../data/external/edits.tsv', sep='\\t')\n",
    "edits.head(2)"
   ]
  },
  {
   "cell_type": "code",
   "execution_count": 3,
   "metadata": {},
   "outputs": [
    {
     "data": {
      "text/plain": [
       "(22126031, 11)"
      ]
     },
     "execution_count": 3,
     "metadata": {},
     "output_type": "execute_result"
    }
   ],
   "source": [
    "edits.shape"
   ]
  },
  {
   "cell_type": "markdown",
   "metadata": {},
   "source": [
    "# Initial analysis"
   ]
  },
  {
   "cell_type": "code",
   "execution_count": 4,
   "metadata": {},
   "outputs": [],
   "source": [
    "edits['time'] = pd.to_datetime(edits.timestamp)"
   ]
  },
  {
   "cell_type": "code",
   "execution_count": 5,
   "metadata": {},
   "outputs": [],
   "source": [
    "df = edits[['user_id', 'article_id', 'revision_id', 'time', 'reverted']]"
   ]
  },
  {
   "cell_type": "code",
   "execution_count": 6,
   "metadata": {},
   "outputs": [],
   "source": [
    "users = df.user_id.unique()"
   ]
  },
  {
   "cell_type": "code",
   "execution_count": 17,
   "metadata": {},
   "outputs": [
    {
     "data": {
      "text/plain": [
       "<matplotlib.axes._subplots.AxesSubplot at 0x11950c3c8>"
      ]
     },
     "execution_count": 17,
     "metadata": {},
     "output_type": "execute_result"
    },
    {
     "data": {
      "image/png": "[encoded data removed]",
      "text/plain": [
       "<Figure size 432x288 with 1 Axes>"
      ]
     },
     "metadata": {},
     "output_type": "display_data"
    }
   ],
   "source": [
    "df.reverted.value_counts().plot.bar()"
   ]
  },
  {
   "cell_type": "code",
   "execution_count": 8,
   "metadata": {},
   "outputs": [
    {
     "data": {
      "text/plain": [
       "0    20136772\n",
       "1     1989259\n",
       "Name: reverted, dtype: int64"
      ]
     },
     "execution_count": 8,
     "metadata": {},
     "output_type": "execute_result"
    }
   ],
   "source": [
    "df.reverted.value_counts()"
   ]
  },
  {
   "cell_type": "code",
   "execution_count": 9,
   "metadata": {},
   "outputs": [
    {
     "data": {
      "text/plain": [
       "0.08990582178972813"
      ]
     },
     "execution_count": 9,
     "metadata": {},
     "output_type": "execute_result"
    }
   ],
   "source": [
    "1989259/(20136772+1989259)"
   ]
  },
  {
   "cell_type": "code",
   "execution_count": 11,
   "metadata": {},
   "outputs": [
    {
     "name": "stdout",
     "output_type": "stream",
     "text": [
      "2001-05-10 13:06:51\n",
      "2010-08-31 23:59:55\n"
     ]
    }
   ],
   "source": [
    "print(df.time.min())\n",
    "print(df.time.max())"
   ]
  },
  {
   "cell_type": "code",
   "execution_count": 33,
   "metadata": {},
   "outputs": [],
   "source": [
    "edits_year = df.time.apply(lambda x: x.year)\n",
    "edits_month = df.time.apply(lambda x: x.month)\n",
    "edits_day = df.time.apply(lambda x: x.day)\n",
    "edits_hours = df.time.apply(lambda x: x.hour)"
   ]
  },
  {
   "cell_type": "code",
   "execution_count": 36,
   "metadata": {},
   "outputs": [
    {
     "data": {
      "text/plain": [
       "Text(0.5, 1.0, 'Number of edits per year')"
      ]
     },
     "execution_count": 36,
     "metadata": {},
     "output_type": "execute_result"
    },
    {
     "data": {
      "image/png": "[encoded data removed]",
      "text/plain": [
       "<Figure size 1080x360 with 1 Axes>"
      ]
     },
     "metadata": {},
     "output_type": "display_data"
    }
   ],
   "source": [
    "plt.figure(figsize=(15,5))\n",
    "\n",
    "years = edits_year.value_counts()\n",
    "sns.barplot(x=years.index, y=years.values, palette=\"rocket\")\n",
    "plt.ylabel('Number of edits')\n",
    "plt.title('Number of edits per year', fontsize=20)"
   ]
  },
  {
   "cell_type": "code",
   "execution_count": 58,
   "metadata": {},
   "outputs": [
    {
     "data": {
      "text/plain": [
       "2008    4771823\n",
       "2009    4763174\n",
       "2007    4170817\n",
       "2010    3542105\n",
       "2006    2987272\n",
       "2005    1202262\n",
       "2004     492729\n",
       "2003     153074\n",
       "2002      38870\n",
       "2001       3905\n",
       "Name: time, dtype: int64"
      ]
     },
     "execution_count": 58,
     "metadata": {},
     "output_type": "execute_result"
    }
   ],
   "source": [
    "edits_year.value_counts()"
   ]
  },
  {
   "cell_type": "code",
   "execution_count": 62,
   "metadata": {},
   "outputs": [
    {
     "name": "stdout",
     "output_type": "stream",
     "text": [
      "Number of records of 2010 compared to 2009: 0.7436438391711073\n",
      "Number of months that the records considered in 2010: 0.6666666666666666\n"
     ]
    }
   ],
   "source": [
    "print('Number of records of 2010 compared to 2009:', 3542105/4763174)\n",
    "print('Number of months that the records considered in 2010:', 8/12)"
   ]
  },
  {
   "cell_type": "code",
   "execution_count": 81,
   "metadata": {},
   "outputs": [
    {
     "data": {
      "text/html": [
       "<div>\n",
       "<style scoped>\n",
       "    .dataframe tbody tr th:only-of-type {\n",
       "        vertical-align: middle;\n",
       "    }\n",
       "\n",
       "    .dataframe tbody tr th {\n",
       "        vertical-align: top;\n",
       "    }\n",
       "\n",
       "    .dataframe thead th {\n",
       "        text-align: right;\n",
       "    }\n",
       "</style>\n",
       "<table border=\"1\" class=\"dataframe\">\n",
       "  <thead>\n",
       "    <tr style=\"text-align: right;\">\n",
       "      <th></th>\n",
       "      <th>year</th>\n",
       "      <th>num_edits</th>\n",
       "      <th>num_edits_shifted</th>\n",
       "      <th>increase</th>\n",
       "    </tr>\n",
       "  </thead>\n",
       "  <tbody>\n",
       "    <tr>\n",
       "      <th>9</th>\n",
       "      <td>2001</td>\n",
       "      <td>3905</td>\n",
       "      <td>NaN</td>\n",
       "      <td>NaN</td>\n",
       "    </tr>\n",
       "    <tr>\n",
       "      <th>8</th>\n",
       "      <td>2002</td>\n",
       "      <td>38870</td>\n",
       "      <td>3905.0</td>\n",
       "      <td>34965.0</td>\n",
       "    </tr>\n",
       "    <tr>\n",
       "      <th>7</th>\n",
       "      <td>2003</td>\n",
       "      <td>153074</td>\n",
       "      <td>38870.0</td>\n",
       "      <td>114204.0</td>\n",
       "    </tr>\n",
       "    <tr>\n",
       "      <th>6</th>\n",
       "      <td>2004</td>\n",
       "      <td>492729</td>\n",
       "      <td>153074.0</td>\n",
       "      <td>339655.0</td>\n",
       "    </tr>\n",
       "    <tr>\n",
       "      <th>5</th>\n",
       "      <td>2005</td>\n",
       "      <td>1202262</td>\n",
       "      <td>492729.0</td>\n",
       "      <td>709533.0</td>\n",
       "    </tr>\n",
       "    <tr>\n",
       "      <th>4</th>\n",
       "      <td>2006</td>\n",
       "      <td>2987272</td>\n",
       "      <td>1202262.0</td>\n",
       "      <td>1785010.0</td>\n",
       "    </tr>\n",
       "    <tr>\n",
       "      <th>2</th>\n",
       "      <td>2007</td>\n",
       "      <td>4170817</td>\n",
       "      <td>2987272.0</td>\n",
       "      <td>1183545.0</td>\n",
       "    </tr>\n",
       "    <tr>\n",
       "      <th>0</th>\n",
       "      <td>2008</td>\n",
       "      <td>4771823</td>\n",
       "      <td>4170817.0</td>\n",
       "      <td>601006.0</td>\n",
       "    </tr>\n",
       "    <tr>\n",
       "      <th>1</th>\n",
       "      <td>2009</td>\n",
       "      <td>4763174</td>\n",
       "      <td>4771823.0</td>\n",
       "      <td>-8649.0</td>\n",
       "    </tr>\n",
       "    <tr>\n",
       "      <th>3</th>\n",
       "      <td>2010</td>\n",
       "      <td>3542105</td>\n",
       "      <td>4763174.0</td>\n",
       "      <td>-1221069.0</td>\n",
       "    </tr>\n",
       "  </tbody>\n",
       "</table>\n",
       "</div>"
      ],
      "text/plain": [
       "   year  num_edits  num_edits_shifted   increase\n",
       "9  2001       3905                NaN        NaN\n",
       "8  2002      38870             3905.0    34965.0\n",
       "7  2003     153074            38870.0   114204.0\n",
       "6  2004     492729           153074.0   339655.0\n",
       "5  2005    1202262           492729.0   709533.0\n",
       "4  2006    2987272          1202262.0  1785010.0\n",
       "2  2007    4170817          2987272.0  1183545.0\n",
       "0  2008    4771823          4170817.0   601006.0\n",
       "1  2009    4763174          4771823.0    -8649.0\n",
       "3  2010    3542105          4763174.0 -1221069.0"
      ]
     },
     "execution_count": 81,
     "metadata": {},
     "output_type": "execute_result"
    }
   ],
   "source": [
    "df_year = pd.DataFrame(edits_year.value_counts())\n",
    "df_year.reset_index(inplace=True)\n",
    "df_year = df_year.rename(columns={'time': 'num_edits', 'index': 'year'})\n",
    "df_year.sort_values(by='year', inplace=True)\n",
    "df_year['num_edits_shifted'] = df_year.num_edits.shift(1)\n",
    "df_year['increase'] = df_year['num_edits'] - df_year['num_edits_shifted']\n",
    "df_year"
   ]
  },
  {
   "cell_type": "code",
   "execution_count": 83,
   "metadata": {},
   "outputs": [
    {
     "data": {
      "text/plain": [
       "Text(0.5, 1.0, 'Increase of edits from year before')"
      ]
     },
     "execution_count": 83,
     "metadata": {},
     "output_type": "execute_result"
    },
    {
     "data": {
      "image/png": "[encoded data removed]",
      "text/plain": [
       "<Figure size 1080x360 with 1 Axes>"
      ]
     },
     "metadata": {},
     "output_type": "display_data"
    }
   ],
   "source": [
    "plt.figure(figsize=(15,5))\n",
    "\n",
    "sns.barplot(x=df_year.year, y=df_year.increase, palette=\"rocket\")\n",
    "plt.ylabel('Number of edits')\n",
    "plt.title('Increase of edits from year before', fontsize=20)"
   ]
  },
  {
   "cell_type": "code",
   "execution_count": 37,
   "metadata": {},
   "outputs": [
    {
     "data": {
      "text/plain": [
       "Text(0.5, 1.0, 'Number of edits per month')"
      ]
     },
     "execution_count": 37,
     "metadata": {},
     "output_type": "execute_result"
    },
    {
     "data": {
      "image/png": "[encoded data removed]",
      "text/plain": [
       "<Figure size 1080x360 with 1 Axes>"
      ]
     },
     "metadata": {},
     "output_type": "display_data"
    }
   ],
   "source": [
    "plt.figure(figsize=(15,5))\n",
    "\n",
    "months = edits_month.value_counts()\n",
    "sns.barplot(x=months.index, y=months.values, palette=\"rocket\")\n",
    "plt.ylabel('Number of edits')\n",
    "plt.title('Number of edits per month', fontsize=20)"
   ]
  },
  {
   "cell_type": "code",
   "execution_count": 38,
   "metadata": {},
   "outputs": [
    {
     "data": {
      "text/plain": [
       "Text(0.5, 1.0, 'Number of edits per day of the month')"
      ]
     },
     "execution_count": 38,
     "metadata": {},
     "output_type": "execute_result"
    },
    {
     "data": {
      "image/png": "[encoded data removed]",
      "text/plain": [
       "<Figure size 1080x360 with 1 Axes>"
      ]
     },
     "metadata": {},
     "output_type": "display_data"
    }
   ],
   "source": [
    "plt.figure(figsize=(15,5))\n",
    "\n",
    "days = edits_day.value_counts()\n",
    "sns.barplot(x=days.index, y=days.values, palette=\"rocket\")\n",
    "plt.ylabel('Number of edits')\n",
    "plt.title('Number of edits per day of the month', fontsize=20)"
   ]
  },
  {
   "cell_type": "code",
   "execution_count": 40,
   "metadata": {},
   "outputs": [
    {
     "data": {
      "text/plain": [
       "Text(0.5, 1.0, 'Number of edits per hour of the day')"
      ]
     },
     "execution_count": 40,
     "metadata": {},
     "output_type": "execute_result"
    },
    {
     "data": {
      "image/png": "[encoded data removed]",
      "text/plain": [
       "<Figure size 1080x360 with 1 Axes>"
      ]
     },
     "metadata": {},
     "output_type": "display_data"
    }
   ],
   "source": [
    "plt.figure(figsize=(15,5))\n",
    "\n",
    "hours = edits_hours.value_counts()\n",
    "sns.barplot(x=hours.index, y=hours.values, palette=\"rocket\")\n",
    "plt.ylabel('Number of edits')\n",
    "plt.xlabel('Hour of the day')\n",
    "plt.title('Number of edits per hour of the day', fontsize=20)"
   ]
  },
  {
   "cell_type": "markdown",
   "metadata": {},
   "source": [
    "# Getting info from reverted updates"
   ]
  },
  {
   "cell_type": "code",
   "execution_count": 41,
   "metadata": {},
   "outputs": [
    {
     "data": {
      "text/html": [
       "<div>\n",
       "<style scoped>\n",
       "    .dataframe tbody tr th:only-of-type {\n",
       "        vertical-align: middle;\n",
       "    }\n",
       "\n",
       "    .dataframe tbody tr th {\n",
       "        vertical-align: top;\n",
       "    }\n",
       "\n",
       "    .dataframe thead th {\n",
       "        text-align: right;\n",
       "    }\n",
       "</style>\n",
       "<table border=\"1\" class=\"dataframe\">\n",
       "  <thead>\n",
       "    <tr style=\"text-align: right;\">\n",
       "      <th></th>\n",
       "      <th>user_id</th>\n",
       "      <th>article_id</th>\n",
       "      <th>revision_id</th>\n",
       "      <th>time</th>\n",
       "      <th>reverted</th>\n",
       "    </tr>\n",
       "  </thead>\n",
       "  <tbody>\n",
       "    <tr>\n",
       "      <th>10</th>\n",
       "      <td>870433</td>\n",
       "      <td>1601117</td>\n",
       "      <td>30962488</td>\n",
       "      <td>2005-12-11 20:36:51</td>\n",
       "      <td>1</td>\n",
       "    </tr>\n",
       "    <tr>\n",
       "      <th>12</th>\n",
       "      <td>870433</td>\n",
       "      <td>241261</td>\n",
       "      <td>76627657</td>\n",
       "      <td>2006-09-19 18:26:11</td>\n",
       "      <td>1</td>\n",
       "    </tr>\n",
       "    <tr>\n",
       "      <th>42</th>\n",
       "      <td>870433</td>\n",
       "      <td>2816791</td>\n",
       "      <td>32225146</td>\n",
       "      <td>2005-12-21 11:19:58</td>\n",
       "      <td>1</td>\n",
       "    </tr>\n",
       "    <tr>\n",
       "      <th>43</th>\n",
       "      <td>870433</td>\n",
       "      <td>4599275</td>\n",
       "      <td>32003546</td>\n",
       "      <td>2005-12-19 20:14:33</td>\n",
       "      <td>1</td>\n",
       "    </tr>\n",
       "    <tr>\n",
       "      <th>45</th>\n",
       "      <td>870433</td>\n",
       "      <td>1681168</td>\n",
       "      <td>136024148</td>\n",
       "      <td>2007-06-05 09:54:21</td>\n",
       "      <td>1</td>\n",
       "    </tr>\n",
       "  </tbody>\n",
       "</table>\n",
       "</div>"
      ],
      "text/plain": [
       "    user_id  article_id  revision_id                time  reverted\n",
       "10   870433     1601117     30962488 2005-12-11 20:36:51         1\n",
       "12   870433      241261     76627657 2006-09-19 18:26:11         1\n",
       "42   870433     2816791     32225146 2005-12-21 11:19:58         1\n",
       "43   870433     4599275     32003546 2005-12-19 20:14:33         1\n",
       "45   870433     1681168    136024148 2007-06-05 09:54:21         1"
      ]
     },
     "execution_count": 41,
     "metadata": {},
     "output_type": "execute_result"
    }
   ],
   "source": [
    "reverted = df[df.reverted==1]\n",
    "reverted.head()"
   ]
  },
  {
   "cell_type": "code",
   "execution_count": 42,
   "metadata": {},
   "outputs": [
    {
     "data": {
      "text/html": [
       "<div>\n",
       "<style scoped>\n",
       "    .dataframe tbody tr th:only-of-type {\n",
       "        vertical-align: middle;\n",
       "    }\n",
       "\n",
       "    .dataframe tbody tr th {\n",
       "        vertical-align: top;\n",
       "    }\n",
       "\n",
       "    .dataframe thead th {\n",
       "        text-align: right;\n",
       "    }\n",
       "</style>\n",
       "<table border=\"1\" class=\"dataframe\">\n",
       "  <thead>\n",
       "    <tr style=\"text-align: right;\">\n",
       "      <th></th>\n",
       "      <th>reverted_count</th>\n",
       "    </tr>\n",
       "    <tr>\n",
       "      <th>user_id</th>\n",
       "      <th></th>\n",
       "    </tr>\n",
       "  </thead>\n",
       "  <tbody>\n",
       "    <tr>\n",
       "      <th>60</th>\n",
       "      <td>2</td>\n",
       "    </tr>\n",
       "    <tr>\n",
       "      <th>64</th>\n",
       "      <td>1</td>\n",
       "    </tr>\n",
       "    <tr>\n",
       "      <th>162</th>\n",
       "      <td>4</td>\n",
       "    </tr>\n",
       "    <tr>\n",
       "      <th>291</th>\n",
       "      <td>81</td>\n",
       "    </tr>\n",
       "    <tr>\n",
       "      <th>342</th>\n",
       "      <td>587</td>\n",
       "    </tr>\n",
       "  </tbody>\n",
       "</table>\n",
       "</div>"
      ],
      "text/plain": [
       "         reverted_count\n",
       "user_id                \n",
       "60                    2\n",
       "64                    1\n",
       "162                   4\n",
       "291                  81\n",
       "342                 587"
      ]
     },
     "execution_count": 42,
     "metadata": {},
     "output_type": "execute_result"
    }
   ],
   "source": [
    "revert_count = df[df.reverted==1].groupby(['user_id'])['time'].count()\n",
    "revert_count = pd.DataFrame(revert_count)\n",
    "revert_count = revert_count.rename(columns={'time': 'reverted_count'})\n",
    "revert_count.head()"
   ]
  },
  {
   "cell_type": "code",
   "execution_count": 89,
   "metadata": {},
   "outputs": [
    {
     "data": {
      "text/html": [
       "<div>\n",
       "<style scoped>\n",
       "    .dataframe tbody tr th:only-of-type {\n",
       "        vertical-align: middle;\n",
       "    }\n",
       "\n",
       "    .dataframe tbody tr th {\n",
       "        vertical-align: top;\n",
       "    }\n",
       "\n",
       "    .dataframe thead th {\n",
       "        text-align: right;\n",
       "    }\n",
       "</style>\n",
       "<table border=\"1\" class=\"dataframe\">\n",
       "  <thead>\n",
       "    <tr style=\"text-align: right;\">\n",
       "      <th></th>\n",
       "      <th>total_edits</th>\n",
       "    </tr>\n",
       "    <tr>\n",
       "      <th>user_id</th>\n",
       "      <th></th>\n",
       "    </tr>\n",
       "  </thead>\n",
       "  <tbody>\n",
       "    <tr>\n",
       "      <th>30</th>\n",
       "      <td>1</td>\n",
       "    </tr>\n",
       "    <tr>\n",
       "      <th>44</th>\n",
       "      <td>33</td>\n",
       "    </tr>\n",
       "    <tr>\n",
       "      <th>54</th>\n",
       "      <td>1</td>\n",
       "    </tr>\n",
       "    <tr>\n",
       "      <th>60</th>\n",
       "      <td>14</td>\n",
       "    </tr>\n",
       "    <tr>\n",
       "      <th>64</th>\n",
       "      <td>33</td>\n",
       "    </tr>\n",
       "  </tbody>\n",
       "</table>\n",
       "</div>"
      ],
      "text/plain": [
       "         total_edits\n",
       "user_id             \n",
       "30                 1\n",
       "44                33\n",
       "54                 1\n",
       "60                14\n",
       "64                33"
      ]
     },
     "execution_count": 89,
     "metadata": {},
     "output_type": "execute_result"
    }
   ],
   "source": [
    "total_edits = df.groupby(['user_id'])['time'].count()\n",
    "total_edits = pd.DataFrame(total_edits)\n",
    "total_edits = total_edits.rename(columns={'time': 'total_edits'})\n",
    "total_edits.head()"
   ]
  },
  {
   "cell_type": "code",
   "execution_count": 91,
   "metadata": {},
   "outputs": [
    {
     "data": {
      "text/html": [
       "<div>\n",
       "<style scoped>\n",
       "    .dataframe tbody tr th:only-of-type {\n",
       "        vertical-align: middle;\n",
       "    }\n",
       "\n",
       "    .dataframe tbody tr th {\n",
       "        vertical-align: top;\n",
       "    }\n",
       "\n",
       "    .dataframe thead th {\n",
       "        text-align: right;\n",
       "    }\n",
       "</style>\n",
       "<table border=\"1\" class=\"dataframe\">\n",
       "  <thead>\n",
       "    <tr style=\"text-align: right;\">\n",
       "      <th></th>\n",
       "      <th>reverted_count</th>\n",
       "      <th>total_edits</th>\n",
       "    </tr>\n",
       "    <tr>\n",
       "      <th>user_id</th>\n",
       "      <th></th>\n",
       "      <th></th>\n",
       "    </tr>\n",
       "  </thead>\n",
       "  <tbody>\n",
       "    <tr>\n",
       "      <th>60</th>\n",
       "      <td>2</td>\n",
       "      <td>14</td>\n",
       "    </tr>\n",
       "    <tr>\n",
       "      <th>64</th>\n",
       "      <td>1</td>\n",
       "      <td>33</td>\n",
       "    </tr>\n",
       "    <tr>\n",
       "      <th>162</th>\n",
       "      <td>4</td>\n",
       "      <td>119</td>\n",
       "    </tr>\n",
       "    <tr>\n",
       "      <th>291</th>\n",
       "      <td>81</td>\n",
       "      <td>875</td>\n",
       "    </tr>\n",
       "    <tr>\n",
       "      <th>342</th>\n",
       "      <td>587</td>\n",
       "      <td>4279</td>\n",
       "    </tr>\n",
       "  </tbody>\n",
       "</table>\n",
       "</div>"
      ],
      "text/plain": [
       "         reverted_count  total_edits\n",
       "user_id                             \n",
       "60                    2           14\n",
       "64                    1           33\n",
       "162                   4          119\n",
       "291                  81          875\n",
       "342                 587         4279"
      ]
     },
     "execution_count": 91,
     "metadata": {},
     "output_type": "execute_result"
    }
   ],
   "source": [
    "df_reverts = pd.merge(revert_count, total_edits, how='left', on='user_id')\n",
    "df_reverts.head()"
   ]
  },
  {
   "cell_type": "code",
   "execution_count": 96,
   "metadata": {},
   "outputs": [],
   "source": [
    "df_reverts['percent'] = df_reverts.reverted_count / df_reverts.total_edits"
   ]
  },
  {
   "cell_type": "code",
   "execution_count": 99,
   "metadata": {},
   "outputs": [
    {
     "data": {
      "text/html": [
       "<div>\n",
       "<style scoped>\n",
       "    .dataframe tbody tr th:only-of-type {\n",
       "        vertical-align: middle;\n",
       "    }\n",
       "\n",
       "    .dataframe tbody tr th {\n",
       "        vertical-align: top;\n",
       "    }\n",
       "\n",
       "    .dataframe thead th {\n",
       "        text-align: right;\n",
       "    }\n",
       "</style>\n",
       "<table border=\"1\" class=\"dataframe\">\n",
       "  <thead>\n",
       "    <tr style=\"text-align: right;\">\n",
       "      <th></th>\n",
       "      <th>reverted_count</th>\n",
       "      <th>total_edits</th>\n",
       "      <th>percent</th>\n",
       "    </tr>\n",
       "    <tr>\n",
       "      <th>user_id</th>\n",
       "      <th></th>\n",
       "      <th></th>\n",
       "      <th></th>\n",
       "    </tr>\n",
       "  </thead>\n",
       "  <tbody>\n",
       "    <tr>\n",
       "      <th>416473</th>\n",
       "      <td>59323</td>\n",
       "      <td>146134</td>\n",
       "      <td>0.405949</td>\n",
       "    </tr>\n",
       "    <tr>\n",
       "      <th>648946</th>\n",
       "      <td>41003</td>\n",
       "      <td>153038</td>\n",
       "      <td>0.267927</td>\n",
       "    </tr>\n",
       "    <tr>\n",
       "      <th>362055</th>\n",
       "      <td>38254</td>\n",
       "      <td>74780</td>\n",
       "      <td>0.511554</td>\n",
       "    </tr>\n",
       "    <tr>\n",
       "      <th>607561</th>\n",
       "      <td>31263</td>\n",
       "      <td>59100</td>\n",
       "      <td>0.528985</td>\n",
       "    </tr>\n",
       "    <tr>\n",
       "      <th>937923</th>\n",
       "      <td>29067</td>\n",
       "      <td>334173</td>\n",
       "      <td>0.086982</td>\n",
       "    </tr>\n",
       "    <tr>\n",
       "      <th>631125</th>\n",
       "      <td>24963</td>\n",
       "      <td>65046</td>\n",
       "      <td>0.383775</td>\n",
       "    </tr>\n",
       "    <tr>\n",
       "      <th>955857</th>\n",
       "      <td>22287</td>\n",
       "      <td>72858</td>\n",
       "      <td>0.305896</td>\n",
       "    </tr>\n",
       "    <tr>\n",
       "      <th>524959</th>\n",
       "      <td>21262</td>\n",
       "      <td>110794</td>\n",
       "      <td>0.191906</td>\n",
       "    </tr>\n",
       "    <tr>\n",
       "      <th>798815</th>\n",
       "      <td>18525</td>\n",
       "      <td>58578</td>\n",
       "      <td>0.316245</td>\n",
       "    </tr>\n",
       "    <tr>\n",
       "      <th>368516</th>\n",
       "      <td>16531</td>\n",
       "      <td>81899</td>\n",
       "      <td>0.201846</td>\n",
       "    </tr>\n",
       "  </tbody>\n",
       "</table>\n",
       "</div>"
      ],
      "text/plain": [
       "         reverted_count  total_edits   percent\n",
       "user_id                                       \n",
       "416473            59323       146134  0.405949\n",
       "648946            41003       153038  0.267927\n",
       "362055            38254        74780  0.511554\n",
       "607561            31263        59100  0.528985\n",
       "937923            29067       334173  0.086982\n",
       "631125            24963        65046  0.383775\n",
       "955857            22287        72858  0.305896\n",
       "524959            21262       110794  0.191906\n",
       "798815            18525        58578  0.316245\n",
       "368516            16531        81899  0.201846"
      ]
     },
     "execution_count": 99,
     "metadata": {},
     "output_type": "execute_result"
    }
   ],
   "source": [
    "df_reverts.sort_values(by='reverted_count', ascending=False).head(10)"
   ]
  },
  {
   "cell_type": "code",
   "execution_count": 107,
   "metadata": {},
   "outputs": [
    {
     "data": {
      "text/html": [
       "<div>\n",
       "<style scoped>\n",
       "    .dataframe tbody tr th:only-of-type {\n",
       "        vertical-align: middle;\n",
       "    }\n",
       "\n",
       "    .dataframe tbody tr th {\n",
       "        vertical-align: top;\n",
       "    }\n",
       "\n",
       "    .dataframe thead th {\n",
       "        text-align: right;\n",
       "    }\n",
       "</style>\n",
       "<table border=\"1\" class=\"dataframe\">\n",
       "  <thead>\n",
       "    <tr style=\"text-align: right;\">\n",
       "      <th></th>\n",
       "      <th>reverted_count</th>\n",
       "      <th>total_edits</th>\n",
       "      <th>percent</th>\n",
       "    </tr>\n",
       "    <tr>\n",
       "      <th>user_id</th>\n",
       "      <th></th>\n",
       "      <th></th>\n",
       "      <th></th>\n",
       "    </tr>\n",
       "  </thead>\n",
       "  <tbody>\n",
       "    <tr>\n",
       "      <th>587979</th>\n",
       "      <td>1</td>\n",
       "      <td>1</td>\n",
       "      <td>1.0</td>\n",
       "    </tr>\n",
       "    <tr>\n",
       "      <th>34726</th>\n",
       "      <td>1</td>\n",
       "      <td>1</td>\n",
       "      <td>1.0</td>\n",
       "    </tr>\n",
       "    <tr>\n",
       "      <th>329926</th>\n",
       "      <td>1</td>\n",
       "      <td>1</td>\n",
       "      <td>1.0</td>\n",
       "    </tr>\n",
       "    <tr>\n",
       "      <th>860788</th>\n",
       "      <td>1</td>\n",
       "      <td>1</td>\n",
       "      <td>1.0</td>\n",
       "    </tr>\n",
       "    <tr>\n",
       "      <th>858646</th>\n",
       "      <td>1</td>\n",
       "      <td>1</td>\n",
       "      <td>1.0</td>\n",
       "    </tr>\n",
       "    <tr>\n",
       "      <th>858084</th>\n",
       "      <td>1</td>\n",
       "      <td>1</td>\n",
       "      <td>1.0</td>\n",
       "    </tr>\n",
       "    <tr>\n",
       "      <th>338563</th>\n",
       "      <td>1</td>\n",
       "      <td>1</td>\n",
       "      <td>1.0</td>\n",
       "    </tr>\n",
       "    <tr>\n",
       "      <th>855274</th>\n",
       "      <td>1</td>\n",
       "      <td>1</td>\n",
       "      <td>1.0</td>\n",
       "    </tr>\n",
       "    <tr>\n",
       "      <th>340286</th>\n",
       "      <td>1</td>\n",
       "      <td>1</td>\n",
       "      <td>1.0</td>\n",
       "    </tr>\n",
       "    <tr>\n",
       "      <th>136139</th>\n",
       "      <td>1</td>\n",
       "      <td>1</td>\n",
       "      <td>1.0</td>\n",
       "    </tr>\n",
       "  </tbody>\n",
       "</table>\n",
       "</div>"
      ],
      "text/plain": [
       "         reverted_count  total_edits  percent\n",
       "user_id                                      \n",
       "587979                1            1      1.0\n",
       "34726                 1            1      1.0\n",
       "329926                1            1      1.0\n",
       "860788                1            1      1.0\n",
       "858646                1            1      1.0\n",
       "858084                1            1      1.0\n",
       "338563                1            1      1.0\n",
       "855274                1            1      1.0\n",
       "340286                1            1      1.0\n",
       "136139                1            1      1.0"
      ]
     },
     "execution_count": 107,
     "metadata": {},
     "output_type": "execute_result"
    }
   ],
   "source": [
    "df_reverts.sort_values(by='percent', ascending=False).head(10)"
   ]
  },
  {
   "cell_type": "code",
   "execution_count": 102,
   "metadata": {},
   "outputs": [
    {
     "name": "stdout",
     "output_type": "stream",
     "text": [
      "Mean number of reverts per user: 134.14653719063998\n",
      "Std of reverts per user: 1063.9261897892998\n",
      "Max number of reverts per user: 59323\n",
      "Mean percent of reverts per user: 0.09126681989201095\n",
      "Std percent of reverts per user: 0.13782604460746703\n",
      "Max percent of reverts per user: 1.0\n"
     ]
    }
   ],
   "source": [
    "print('Mean number of reverts per user:', df_reverts.reverted_count.mean())\n",
    "print('Std of reverts per user:', df_reverts.reverted_count.std())\n",
    "print('Max number of reverts per user:', df_reverts.reverted_count.max())\n",
    "print('Mean percent of reverts per user:', df_reverts.percent.mean())\n",
    "print('Std percent of reverts per user:', df_reverts.percent.std())\n",
    "print('Max percent of reverts per user:', df_reverts.percent.max())"
   ]
  },
  {
   "cell_type": "code",
   "execution_count": 103,
   "metadata": {},
   "outputs": [
    {
     "data": {
      "text/plain": [
       "<matplotlib.axes._subplots.AxesSubplot at 0x12f036f28>"
      ]
     },
     "execution_count": 103,
     "metadata": {},
     "output_type": "execute_result"
    },
    {
     "data": {
      "image/png": "[encoded data removed]",
      "text/plain": [
       "<Figure size 1080x360 with 1 Axes>"
      ]
     },
     "metadata": {},
     "output_type": "display_data"
    }
   ],
   "source": [
    "plt.figure(figsize=(15,5))\n",
    "\n",
    "df_reverts.reverted_count.plot.hist()"
   ]
  },
  {
   "cell_type": "code",
   "execution_count": 110,
   "metadata": {},
   "outputs": [
    {
     "data": {
      "text/plain": [
       "Text(0, 0.5, 'Num of edits')"
      ]
     },
     "execution_count": 110,
     "metadata": {},
     "output_type": "execute_result"
    },
    {
     "data": {
      "image/png": "[encoded data removed]",
      "text/plain": [
       "<Figure size 1080x360 with 1 Axes>"
      ]
     },
     "metadata": {},
     "output_type": "display_data"
    }
   ],
   "source": [
    "plt.figure(figsize=(15,5))\n",
    "df_reverts.percent.plot.hist()\n",
    "plt.title('Percent of edits reverted per user', fontsize=20)\n",
    "plt.ylabel('Num of edits')"
   ]
  },
  {
   "cell_type": "markdown",
   "metadata": {},
   "source": [
    "# Correlation between days before first revert and number the updated after first revert?"
   ]
  },
  {
   "cell_type": "code",
   "execution_count": null,
   "metadata": {},
   "outputs": [
    {
     "data": {
      "text/plain": [
       "(21798105, 9)"
      ]
     },
     "execution_count": 28,
     "metadata": {},
     "output_type": "execute_result"
    }
   ],
   "source": [
    "# We only want users that had at least one update reverted\n",
    "reverted_df = df4[df4.reverted_count >= 1]\n",
    "reverted_df.shape"
   ]
  },
  {
   "cell_type": "code",
   "execution_count": null,
   "metadata": {},
   "outputs": [],
   "source": [
    "time_before_revert = reverted_df.time_first_revert - reverted_df.time_first_update\n",
    "reverted_df['days_before_revert'] = time_before_revert.apply(lambda x: x.days)\n",
    "reverted_df.head()"
   ]
  },
  {
   "cell_type": "code",
   "execution_count": null,
   "metadata": {},
   "outputs": [],
   "source": [
    "# And we want to check the updated that happened after the first revert\n",
    "after_revert = reverted_df[reverted_df.time_update >= reverted_df.time_first_revert]\n",
    "updates_after_revert = after_revert.groupby('user_id')['time_update'].count()\n",
    "\n",
    "updates_after_revert = pd.DataFrame(updates_after_revert)\n",
    "updates_after_revert = updates_after_revert.rename(columns={'time_update': 'updates_after_revert'})\n",
    "updates_after_revert.head()"
   ]
  },
  {
   "cell_type": "code",
   "execution_count": null,
   "metadata": {},
   "outputs": [],
   "source": [
    "df = pd.merge(reverted_df, updates_after_revert, how='left', on='user_id')"
   ]
  },
  {
   "cell_type": "code",
   "execution_count": null,
   "metadata": {},
   "outputs": [],
   "source": [
    "users_behavior = df.groupby('user_id').first()\n",
    "\n",
    "plt.figure(figsize=(15,10))\n",
    "plt.scatter(users_behavior.days_before_revert, users_behavior.updates_after_revert)\n",
    "plt.xlabel('Days before first revert', fontsize=15)\n",
    "plt.ylabel('Number of updates after first revert', fontsize=15)\n",
    "plt.title('Days before revert vs number of updates after revert', fontsize=20)"
   ]
  },
  {
   "cell_type": "markdown",
   "metadata": {},
   "source": [
    "# Analysis through time"
   ]
  },
  {
   "cell_type": "code",
   "execution_count": null,
   "metadata": {},
   "outputs": [],
   "source": [
    "from datetime import date \n",
    "\n",
    "df4['date'] = df4.time_update.apply(lambda x: x.date())\n",
    "df4['date_monthly'] = df4.time_update.apply(lambda x: date(x.date().year, x.date().month, 1))"
   ]
  },
  {
   "cell_type": "code",
   "execution_count": null,
   "metadata": {},
   "outputs": [],
   "source": [
    "plt.figure(figsize=(15,5))\n",
    "plt.plot(df4.date_monthly.value_counts().sort_index())\n",
    "plt.plot(df4.date_monthly.value_counts().sort_index(), 'bo')\n",
    "plt.ylabel('Number of edits')\n",
    "plt.title('Number of edits by month', fontsize=15)\n",
    "plt.grid()"
   ]
  },
  {
   "cell_type": "code",
   "execution_count": null,
   "metadata": {},
   "outputs": [],
   "source": [
    "plt.figure(figsize=(15,5))\n",
    "plt.plot(df4.date.value_counts().sort_index())\n",
    "plt.ylabel('Number of edits')\n",
    "plt.title('Number of edits', fontsize=15)\n",
    "plt.grid()"
   ]
  },
  {
   "cell_type": "code",
   "execution_count": null,
   "metadata": {},
   "outputs": [],
   "source": [
    "reverted = df4[df4.reverted==1]\n",
    "not_reverted = df4[df4.reverted==0]\n",
    "\n",
    "plt.figure(figsize=(15,5))\n",
    "plt.plot(reverted.date_monthly.value_counts().sort_index())\n",
    "plt.plot(not_reverted.date_monthly.value_counts().sort_index())\n",
    "plt.legend(['reverted', 'not reverted'])\n",
    "plt.ylabel('Number of edits')\n",
    "plt.title('Number of edits by month', fontsize=15)\n",
    "plt.grid()"
   ]
  },
  {
   "cell_type": "code",
   "execution_count": null,
   "metadata": {},
   "outputs": [],
   "source": [
    "reverted = df4[df4.reverted==1]\n",
    "not_reverted = df4[df4.reverted==0]\n",
    "\n",
    "plt.figure(figsize=(15,5))\n",
    "plt.plot(reverted.date.value_counts().sort_index())\n",
    "plt.plot(not_reverted.date.value_counts().sort_index())\n",
    "plt.legend(['reverted', 'not reverted'])\n",
    "plt.ylabel('Number of edits')\n",
    "plt.title('Number of edits', fontsize=15)\n",
    "plt.grid()"
   ]
  },
  {
   "cell_type": "code",
   "execution_count": null,
   "metadata": {},
   "outputs": [],
   "source": [
    "user_by_date = pd.crosstab(df4.date, df4.user_id)\n",
    "user_by_date[user_by_date>1] = 1\n",
    "\n",
    "user_by_date = user_by_date.sum(axis=1)\n",
    "\n",
    "plt.figure(figsize=(15,5))\n",
    "plt.plot(user_by_date)\n",
    "plt.ylabel('Number of users')\n",
    "plt.title('Number of users updating per day', fontsize=15)\n",
    "plt.grid()"
   ]
  },
  {
   "cell_type": "code",
   "execution_count": null,
   "metadata": {},
   "outputs": [],
   "source": [
    "user_by_date = pd.crosstab(df4.date_monthly, df4.user_id)\n",
    "user_by_date[user_by_date>1] = 1\n",
    "\n",
    "user_by_date = user_by_date.sum(axis=1)\n",
    "\n",
    "plt.figure(figsize=(15,5))\n",
    "plt.plot(user_by_date)\n",
    "plt.ylabel('Number of users')\n",
    "plt.title('Number of users updating per month', fontsize=15)\n",
    "plt.grid()"
   ]
  },
  {
   "cell_type": "markdown",
   "metadata": {},
   "source": [
    "# Data by users"
   ]
  },
  {
   "cell_type": "code",
   "execution_count": null,
   "metadata": {},
   "outputs": [],
   "source": []
  },
  {
   "cell_type": "code",
   "execution_count": null,
   "metadata": {},
   "outputs": [],
   "source": [
    "pd.merge(df4, updates_after_revert, how='left', on='user_id')"
   ]
  }
 ],
 "metadata": {
  "kernelspec": {
   "display_name": "Python 3",
   "language": "python",
   "name": "python3"
  },
  "language_info": {
   "codemirror_mode": {
    "name": "ipython",
    "version": 3
   },
   "file_extension": ".py",
   "mimetype": "text/x-python",
   "name": "python",
   "nbconvert_exporter": "python",
   "pygments_lexer": "ipython3",
   "version": "3.7.1"
  }
 },
 "nbformat": 4,
 "nbformat_minor": 2
}
